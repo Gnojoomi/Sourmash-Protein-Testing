{
 "cells": [
  {
   "cell_type": "code",
   "execution_count": null,
   "metadata": {},
   "outputs": [],
   "source": [
    "con_pro=[]\n",
    "with open(\"Conserved_pro.txt\", 'r') as G:\n",
    "    for line in G:\n",
    "        if line[0]!='>':\n",
    "            line1=line.strip()\n",
    "            con_pro.append(line1)\n",
    "con_tran=[]\n",
    "with open(\"Conserved_trans.txt\",'r') as R:\n",
    "    for line in R:\n",
    "        if line[0]!='>':\n",
    "            line1=line.strip()\n",
    "            con_tran.append(line1)\n",
    "import sourmash_lib\n",
    "Results1=open(\"Results_conserved.txt\",\"w\")\n",
    "for q in range(0,9):\n",
    "    protein1=con_pro[q]\n",
    "    transcript2=con_tran[q]\n",
    "    #print (protein)\n",
    "    #print (trancript)\n",
    "    E1 = sourmash_lib.MinHash(n=20, ksize=21, is_protein=True)\n",
    "    E1.add_protein(protein1)\n",
    "    E2 = sourmash_lib.MinHash(n=20, ksize=21,is_protein=True)\n",
    "    E2.add_sequence(trancript2)\n",
    "    Jaccard=round(E1.jaccard(E2),2)\n",
    "    #print (Jaccard)\n",
    "    #print (Jaccard)\n",
    "    Results1.write(str(Jaccard)+\"\\n\")\n",
    "Results1.close()\n",
    "\n",
    "with open(\"Results_conserved_pro_trans.txt\") as f:\n",
    "    contents1 = f.readlines()\n",
    "    #print(contents111)\n",
    "    #print (content)\n",
    "    contents1 = [x.strip() for x in contents1]\n",
    "    contents1= [float(x) for x in contents1]\n",
    "    #print (contents1)\n",
    "    sequence1=[]\n",
    "    for i in range(1,len(Trans_noORF)+1):\n",
    "        #print (i)\n",
    "        sequence1.append(i)\n",
    "    #print (len(contents11))\n",
    "    #print (len(contents111))\n",
    "\n",
    "import matplotlib.pyplot as plt\n",
    "%matplotlib inline\n",
    "plt.scatter(sequence,contents1)\n",
    "plt.ylabel('Jaccard')\n",
    "plt.xlabel('Sequence')\n",
    "plt.title(\"Results Conserved\")\n",
    "plt.show()"
   ]
  }
 ],
 "metadata": {
  "kernelspec": {
   "display_name": "Python 3",
   "language": "python",
   "name": "python3"
  },
  "language_info": {
   "codemirror_mode": {
    "name": "ipython",
    "version": 3
   },
   "file_extension": ".py",
   "mimetype": "text/x-python",
   "name": "python",
   "nbconvert_exporter": "python",
   "pygments_lexer": "ipython3",
   "version": "3.6.4"
  }
 },
 "nbformat": 4,
 "nbformat_minor": 2
}
